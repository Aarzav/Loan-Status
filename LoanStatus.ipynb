{
 "cells": [
  {
   "cell_type": "markdown",
   "id": "bbff412c",
   "metadata": {},
   "source": [
    "Data Set:\n",
    "ABC company is a NBFC & deals in all kinds of home loans. They have presence across all urban, semi urban and rural areas. Customer first applies for home loan and after that company validates the customer eligibility for loan.\n",
    "ABC wants to automate the loan eligibility process (real time) based on customer detail provided while filling online application form. These details are Gender, Marital Status, Education, Number of Dependents, Income, Loan Amount, Credit History and others. To automate this process, they have provided a dataset to identify the customers segments that are eligible for loan amount so that they can specifically target these customers. \n",
    "\n",
    "Data Dictionary:\n",
    "\n",
    "Train file: CSV containing the customers for whom loan eligibility is known as 'Loan_Status'\n",
    "\n",
    "Variable Description:\n",
    "Loan_ID Unique Loan ID\n",
    "Gender Male/ Female\n",
    "Married Applicant married (Y/N)\n",
    "Dependents Number of dependents\n",
    "Education Applicant Education (Graduate/ Under Graduate)\n",
    "Self_Employed Self employed (Y/N)\n",
    "ApplicantIncome Applicant income\n",
    "CoapplicantIncome Coapplicant income\n",
    "LoanAmount Loan amount in thousands\n",
    "Loan_Amount_Term Term of loan in months\n",
    "Credit_History credit history meets guidelines\n",
    "Property_Area Urban/ Semi Urban/ Rural\n",
    "Loan_Status (Target) Loan approved (Y/N)\n",
    "\n",
    "Validation file: CSV containing the customer information for whom loan eligibility is to be predicted\n",
    "\n",
    "Variable Description\n",
    "Loan_ID Unique Loan ID\n",
    "Gender Male/ Female\n",
    "Married Applicant married (Y/N)\n",
    "Dependents Number of dependents\n",
    "Education Applicant Education (Graduate/ Under Graduate)\n",
    "Self_Employed Self employed (Y/N)\n",
    "ApplicantIncome Applicant income\n",
    "CoapplicantIncome Coapplicant income\n",
    "LoanAmount Loan amount in thousands\n",
    "Loan_Amount_Term Term of loan in months\n",
    "Credit_History credit history meets guidelines\n",
    "Property_Area Urban/ Semi Urban/ Rural\n",
    "\n",
    "\n",
    "Submission file format:\n",
    "Variable Description\n",
    "Loan_ID Unique Loan ID\n",
    "Loan_Status (Target) Loan approved (Y/N)\n",
    "\n",
    "Task:\n",
    "Design a model that will be able to predict if a customer should be eligible for loan or not.\n",
    "\n",
    "Deliverables:\n",
    "Provide the following:\n",
    "• The source code you used to build the model and make predictions. (You are\n",
    "free to use any language and any open-source package/library)\n",
    "• A .csv file containing the predictions of the validation data. You can add the target\n",
    "column (‘Loan_Status) to the validation data or simply provide it alone with the Loan_ID\n",
    "column.\n",
    "• Briefly answer the following questions:\n",
    "o Describe your model and why did you choose this model over other\n",
    "types of models?\n",
    "o Describe any other models you have tried and why do you think this\n",
    "model performs better?\n",
    "o How did you handle missing data?\n",
    "o How did you handle categorical (string) data?\n",
    "o How did you handle unbalanced data?\n",
    "How did you test your model ?"
   ]
  },
  {
   "cell_type": "markdown",
   "id": "99642907",
   "metadata": {},
   "source": [
    "# Importing Libraries"
   ]
  },
  {
   "cell_type": "code",
   "execution_count": 1,
   "id": "3ec5686c",
   "metadata": {},
   "outputs": [],
   "source": [
    "import pandas as pd\n",
    "from sklearn.metrics import mean_absolute_error,mean_squared_error,r2_score\n",
    "import numpy as np\n",
    "from sklearn.linear_model import LogisticRegression\n",
    "from sklearn.linear_model import ElasticNet\n",
    "from sklearn.model_selection import train_test_split\n",
    "from sklearn.linear_model import Ridge\n",
    "from sklearn.linear_model import Lasso\n",
    "import warnings\n",
    "warnings.filterwarnings('ignore')\n",
    "from sklearn.metrics import confusion_matrix\n",
    "import matplotlib.pyplot as plt\n",
    "import seaborn as sns"
   ]
  },
  {
   "cell_type": "markdown",
   "id": "2e5063c4",
   "metadata": {},
   "source": [
    "# Defining class and functions"
   ]
  },
  {
   "cell_type": "code",
   "execution_count": 2,
   "id": "3133623d",
   "metadata": {},
   "outputs": [],
   "source": [
    "class Loan:\n",
    "    def __init__(self, x, y,ml):\n",
    "        self.x = x\n",
    "        self.y = y\n",
    "        self.x_train = None \n",
    "        self.x_test = None \n",
    "        self.y_train = None \n",
    "        self.y_test = None\n",
    "        self.ml=ml\n",
    "\n",
    "    def split(self):\n",
    "        x_train, x_test, y_train, y_test = train_test_split(self.x, self.y, train_size=0.8,random_state=80)\n",
    "        self.x_train = x_train\n",
    "        self.x_test = x_test \n",
    "        self.y_train = y_train \n",
    "        self.y_test = y_test \n",
    "        self.ml.fit(x_train, y_train)\n",
    "\n",
    "    def mscore(self):\n",
    "        print('Training Score:', self.ml.score(self.x_train, self.y_train))\n",
    "        print('Testing Score:', self.ml.score(self.x_test, self.y_test))\n",
    "\n",
    "    def met(self):\n",
    "        y_pred = self.ml.predict(self.x_test)\n",
    "        sns.heatmap(confusion_matrix(self.y_test,y_pred),annot=True)\n",
    "        "
   ]
  },
  {
   "cell_type": "markdown",
   "id": "f7d122b2",
   "metadata": {},
   "source": [
    "# Reading the data"
   ]
  },
  {
   "cell_type": "code",
   "execution_count": 3,
   "id": "e02b40e7",
   "metadata": {},
   "outputs": [],
   "source": [
    "df=pd.read_csv(r\"C:\\Users\\aarza\\Desktop\\Dataset\\imarticus\\basant ml\\train (1).csv\")"
   ]
  },
  {
   "cell_type": "code",
   "execution_count": 4,
   "id": "cbae93a5",
   "metadata": {
    "scrolled": true
   },
   "outputs": [
    {
     "data": {
      "text/html": [
       "<div>\n",
       "<style scoped>\n",
       "    .dataframe tbody tr th:only-of-type {\n",
       "        vertical-align: middle;\n",
       "    }\n",
       "\n",
       "    .dataframe tbody tr th {\n",
       "        vertical-align: top;\n",
       "    }\n",
       "\n",
       "    .dataframe thead th {\n",
       "        text-align: right;\n",
       "    }\n",
       "</style>\n",
       "<table border=\"1\" class=\"dataframe\">\n",
       "  <thead>\n",
       "    <tr style=\"text-align: right;\">\n",
       "      <th></th>\n",
       "      <th>Loan_ID</th>\n",
       "      <th>Gender</th>\n",
       "      <th>Married</th>\n",
       "      <th>Dependents</th>\n",
       "      <th>Education</th>\n",
       "      <th>Self_Employed</th>\n",
       "      <th>ApplicantIncome</th>\n",
       "      <th>CoapplicantIncome</th>\n",
       "      <th>LoanAmount</th>\n",
       "      <th>Loan_Amount_Term</th>\n",
       "      <th>Credit_History</th>\n",
       "      <th>Property_Area</th>\n",
       "      <th>Loan_Status</th>\n",
       "    </tr>\n",
       "  </thead>\n",
       "  <tbody>\n",
       "    <tr>\n",
       "      <th>0</th>\n",
       "      <td>LP002051</td>\n",
       "      <td>Male</td>\n",
       "      <td>Yes</td>\n",
       "      <td>0</td>\n",
       "      <td>Graduate</td>\n",
       "      <td>No</td>\n",
       "      <td>2400</td>\n",
       "      <td>2167.0</td>\n",
       "      <td>115.0</td>\n",
       "      <td>360.0</td>\n",
       "      <td>1.0</td>\n",
       "      <td>Semiurban</td>\n",
       "      <td>Y</td>\n",
       "    </tr>\n",
       "    <tr>\n",
       "      <th>1</th>\n",
       "      <td>LP002255</td>\n",
       "      <td>Male</td>\n",
       "      <td>No</td>\n",
       "      <td>3+</td>\n",
       "      <td>Graduate</td>\n",
       "      <td>No</td>\n",
       "      <td>9167</td>\n",
       "      <td>0.0</td>\n",
       "      <td>185.0</td>\n",
       "      <td>360.0</td>\n",
       "      <td>1.0</td>\n",
       "      <td>Rural</td>\n",
       "      <td>Y</td>\n",
       "    </tr>\n",
       "    <tr>\n",
       "      <th>2</th>\n",
       "      <td>LP002877</td>\n",
       "      <td>Male</td>\n",
       "      <td>Yes</td>\n",
       "      <td>1</td>\n",
       "      <td>Graduate</td>\n",
       "      <td>No</td>\n",
       "      <td>1782</td>\n",
       "      <td>2232.0</td>\n",
       "      <td>107.0</td>\n",
       "      <td>360.0</td>\n",
       "      <td>1.0</td>\n",
       "      <td>Rural</td>\n",
       "      <td>Y</td>\n",
       "    </tr>\n",
       "    <tr>\n",
       "      <th>3</th>\n",
       "      <td>LP002931</td>\n",
       "      <td>Male</td>\n",
       "      <td>Yes</td>\n",
       "      <td>2</td>\n",
       "      <td>Graduate</td>\n",
       "      <td>Yes</td>\n",
       "      <td>6000</td>\n",
       "      <td>0.0</td>\n",
       "      <td>205.0</td>\n",
       "      <td>240.0</td>\n",
       "      <td>1.0</td>\n",
       "      <td>Semiurban</td>\n",
       "      <td>N</td>\n",
       "    </tr>\n",
       "    <tr>\n",
       "      <th>4</th>\n",
       "      <td>LP002743</td>\n",
       "      <td>Female</td>\n",
       "      <td>No</td>\n",
       "      <td>0</td>\n",
       "      <td>Graduate</td>\n",
       "      <td>No</td>\n",
       "      <td>2138</td>\n",
       "      <td>0.0</td>\n",
       "      <td>99.0</td>\n",
       "      <td>360.0</td>\n",
       "      <td>0.0</td>\n",
       "      <td>Semiurban</td>\n",
       "      <td>N</td>\n",
       "    </tr>\n",
       "  </tbody>\n",
       "</table>\n",
       "</div>"
      ],
      "text/plain": [
       "    Loan_ID  Gender Married Dependents Education Self_Employed  \\\n",
       "0  LP002051    Male     Yes          0  Graduate            No   \n",
       "1  LP002255    Male      No         3+  Graduate            No   \n",
       "2  LP002877    Male     Yes          1  Graduate            No   \n",
       "3  LP002931    Male     Yes          2  Graduate           Yes   \n",
       "4  LP002743  Female      No          0  Graduate            No   \n",
       "\n",
       "   ApplicantIncome  CoapplicantIncome  LoanAmount  Loan_Amount_Term  \\\n",
       "0             2400             2167.0       115.0             360.0   \n",
       "1             9167                0.0       185.0             360.0   \n",
       "2             1782             2232.0       107.0             360.0   \n",
       "3             6000                0.0       205.0             240.0   \n",
       "4             2138                0.0        99.0             360.0   \n",
       "\n",
       "   Credit_History Property_Area Loan_Status  \n",
       "0             1.0     Semiurban           Y  \n",
       "1             1.0         Rural           Y  \n",
       "2             1.0         Rural           Y  \n",
       "3             1.0     Semiurban           N  \n",
       "4             0.0     Semiurban           N  "
      ]
     },
     "execution_count": 4,
     "metadata": {},
     "output_type": "execute_result"
    }
   ],
   "source": [
    "df.head() #DATA"
   ]
  },
  {
   "cell_type": "code",
   "execution_count": 5,
   "id": "4c568c16",
   "metadata": {
    "scrolled": false
   },
   "outputs": [
    {
     "name": "stdout",
     "output_type": "stream",
     "text": [
      "<class 'pandas.core.frame.DataFrame'>\n",
      "RangeIndex: 491 entries, 0 to 490\n",
      "Data columns (total 13 columns):\n",
      " #   Column             Non-Null Count  Dtype  \n",
      "---  ------             --------------  -----  \n",
      " 0   Loan_ID            491 non-null    object \n",
      " 1   Gender             480 non-null    object \n",
      " 2   Married            488 non-null    object \n",
      " 3   Dependents         478 non-null    object \n",
      " 4   Education          491 non-null    object \n",
      " 5   Self_Employed      463 non-null    object \n",
      " 6   ApplicantIncome    491 non-null    int64  \n",
      " 7   CoapplicantIncome  491 non-null    float64\n",
      " 8   LoanAmount         474 non-null    float64\n",
      " 9   Loan_Amount_Term   480 non-null    float64\n",
      " 10  Credit_History     447 non-null    float64\n",
      " 11  Property_Area      491 non-null    object \n",
      " 12  Loan_Status        491 non-null    object \n",
      "dtypes: float64(4), int64(1), object(8)\n",
      "memory usage: 50.0+ KB\n"
     ]
    }
   ],
   "source": [
    "df.info() #trying to get information of data"
   ]
  },
  {
   "cell_type": "code",
   "execution_count": 6,
   "id": "3513b273",
   "metadata": {
    "scrolled": false
   },
   "outputs": [
    {
     "data": {
      "text/plain": [
       "Loan_ID               0\n",
       "Gender               11\n",
       "Married               3\n",
       "Dependents           13\n",
       "Education             0\n",
       "Self_Employed        28\n",
       "ApplicantIncome       0\n",
       "CoapplicantIncome     0\n",
       "LoanAmount           17\n",
       "Loan_Amount_Term     11\n",
       "Credit_History       44\n",
       "Property_Area         0\n",
       "Loan_Status           0\n",
       "dtype: int64"
      ]
     },
     "execution_count": 6,
     "metadata": {},
     "output_type": "execute_result"
    }
   ],
   "source": [
    "df.isnull().sum() # checking null values"
   ]
  },
  {
   "cell_type": "markdown",
   "id": "3357cda3",
   "metadata": {},
   "source": [
    "# Removing Null Values"
   ]
  },
  {
   "cell_type": "code",
   "execution_count": 7,
   "id": "9aa55478",
   "metadata": {},
   "outputs": [],
   "source": [
    "def fillcate(df):\n",
    "    for i in df.columns:\n",
    "        if df[i].dtype == 'O':\n",
    "            # Calculate the mode (most frequent category) of the column\n",
    "            mode_value = df[i].mode().iloc[0]\n",
    "            # Fill NA values with the mode value\n",
    "            df[i].fillna(mode_value, inplace=True)"
   ]
  },
  {
   "cell_type": "code",
   "execution_count": 8,
   "id": "cfe766e5",
   "metadata": {},
   "outputs": [],
   "source": [
    "fillcate(df)"
   ]
  },
  {
   "cell_type": "code",
   "execution_count": 9,
   "id": "392c3f6b",
   "metadata": {},
   "outputs": [
    {
     "data": {
      "text/plain": [
       "146.68987341772151"
      ]
     },
     "execution_count": 9,
     "metadata": {},
     "output_type": "execute_result"
    }
   ],
   "source": [
    "df['LoanAmount'].mean()"
   ]
  },
  {
   "cell_type": "code",
   "execution_count": 10,
   "id": "dfb08620",
   "metadata": {},
   "outputs": [
    {
     "data": {
      "text/plain": [
       "<Axes: >"
      ]
     },
     "execution_count": 10,
     "metadata": {},
     "output_type": "execute_result"
    },
    {
     "data": {
      "image/png": "[encoded data removed]",
      "text/plain": [
       "<Figure size 640x480 with 1 Axes>"
      ]
     },
     "metadata": {},
     "output_type": "display_data"
    }
   ],
   "source": [
    "df['LoanAmount'].plot(kind='box')"
   ]
  },
  {
   "cell_type": "code",
   "execution_count": 11,
   "id": "bff978d2",
   "metadata": {},
   "outputs": [
    {
     "data": {
      "text/plain": [
       "128.0"
      ]
     },
     "execution_count": 11,
     "metadata": {},
     "output_type": "execute_result"
    }
   ],
   "source": [
    "df['LoanAmount'].median()"
   ]
  },
  {
   "cell_type": "code",
   "execution_count": 12,
   "id": "25c24972",
   "metadata": {},
   "outputs": [],
   "source": [
    "df['LoanAmount'].fillna(df['LoanAmount'].median(),inplace=True)"
   ]
  },
  {
   "cell_type": "code",
   "execution_count": 13,
   "id": "bee57149",
   "metadata": {},
   "outputs": [
    {
     "data": {
      "text/plain": [
       "360.0    408\n",
       "180.0     35\n",
       "480.0     13\n",
       "300.0     10\n",
       "240.0      4\n",
       "84.0       3\n",
       "120.0      3\n",
       "36.0       2\n",
       "12.0       1\n",
       "60.0       1\n",
       "Name: Loan_Amount_Term, dtype: int64"
      ]
     },
     "execution_count": 13,
     "metadata": {},
     "output_type": "execute_result"
    }
   ],
   "source": [
    "df['Loan_Amount_Term'].value_counts()"
   ]
  },
  {
   "cell_type": "code",
   "execution_count": 14,
   "id": "bf38f398",
   "metadata": {},
   "outputs": [],
   "source": [
    "df['Loan_Amount_Term'].fillna(df['Loan_Amount_Term'].mode()[0],inplace=True)"
   ]
  },
  {
   "cell_type": "code",
   "execution_count": 15,
   "id": "f342ab89",
   "metadata": {},
   "outputs": [],
   "source": [
    "df['Credit_History'].fillna(df['Credit_History'].mode()[0],inplace=True)"
   ]
  },
  {
   "cell_type": "code",
   "execution_count": 16,
   "id": "acf40179",
   "metadata": {
    "scrolled": true
   },
   "outputs": [
    {
     "data": {
      "text/plain": [
       "Loan_ID              0\n",
       "Gender               0\n",
       "Married              0\n",
       "Dependents           0\n",
       "Education            0\n",
       "Self_Employed        0\n",
       "ApplicantIncome      0\n",
       "CoapplicantIncome    0\n",
       "LoanAmount           0\n",
       "Loan_Amount_Term     0\n",
       "Credit_History       0\n",
       "Property_Area        0\n",
       "Loan_Status          0\n",
       "dtype: int64"
      ]
     },
     "execution_count": 16,
     "metadata": {},
     "output_type": "execute_result"
    }
   ],
   "source": [
    "df.isnull().sum()"
   ]
  },
  {
   "cell_type": "markdown",
   "id": "ad7ae4bb",
   "metadata": {},
   "source": [
    "# Splitting independent and target variable"
   ]
  },
  {
   "cell_type": "code",
   "execution_count": 17,
   "id": "e8b9ebf4",
   "metadata": {},
   "outputs": [],
   "source": [
    "x=df.drop(['Loan_ID','Loan_Status'],axis=1)"
   ]
  },
  {
   "cell_type": "code",
   "execution_count": 18,
   "id": "47e62bc7",
   "metadata": {},
   "outputs": [],
   "source": [
    "y=df['Loan_Status'].apply(lambda x : 1 if x=='Y' else 0 ) #Loan Status is our target variable"
   ]
  },
  {
   "cell_type": "code",
   "execution_count": 19,
   "id": "5c5af64a",
   "metadata": {},
   "outputs": [
    {
     "data": {
      "text/plain": [
       "0      1\n",
       "1      1\n",
       "2      1\n",
       "3      0\n",
       "4      0\n",
       "      ..\n",
       "486    1\n",
       "487    1\n",
       "488    1\n",
       "489    1\n",
       "490    1\n",
       "Name: Loan_Status, Length: 491, dtype: int64"
      ]
     },
     "execution_count": 19,
     "metadata": {},
     "output_type": "execute_result"
    }
   ],
   "source": [
    "y"
   ]
  },
  {
   "cell_type": "code",
   "execution_count": null,
   "id": "ecb81004",
   "metadata": {},
   "outputs": [],
   "source": []
  },
  {
   "cell_type": "code",
   "execution_count": 20,
   "id": "59a72e27",
   "metadata": {},
   "outputs": [],
   "source": [
    "cat=['Gender', 'Married', 'Dependents', 'Education', 'Self_Employed', 'Property_Area']"
   ]
  },
  {
   "cell_type": "code",
   "execution_count": 21,
   "id": "f68483c5",
   "metadata": {},
   "outputs": [],
   "source": [
    "dummy=pd.get_dummies(x[cat],drop_first=True)#converting categorical value into dummies"
   ]
  },
  {
   "cell_type": "code",
   "execution_count": 22,
   "id": "6c299207",
   "metadata": {},
   "outputs": [],
   "source": [
    "x = pd.concat([x,dummy], axis=1)"
   ]
  },
  {
   "cell_type": "code",
   "execution_count": 23,
   "id": "e32985f2",
   "metadata": {},
   "outputs": [],
   "source": [
    "x.drop(columns=cat, inplace=True)"
   ]
  },
  {
   "cell_type": "code",
   "execution_count": 24,
   "id": "36fad3d4",
   "metadata": {},
   "outputs": [
    {
     "data": {
      "text/html": [
       "<div>\n",
       "<style scoped>\n",
       "    .dataframe tbody tr th:only-of-type {\n",
       "        vertical-align: middle;\n",
       "    }\n",
       "\n",
       "    .dataframe tbody tr th {\n",
       "        vertical-align: top;\n",
       "    }\n",
       "\n",
       "    .dataframe thead th {\n",
       "        text-align: right;\n",
       "    }\n",
       "</style>\n",
       "<table border=\"1\" class=\"dataframe\">\n",
       "  <thead>\n",
       "    <tr style=\"text-align: right;\">\n",
       "      <th></th>\n",
       "      <th>ApplicantIncome</th>\n",
       "      <th>CoapplicantIncome</th>\n",
       "      <th>LoanAmount</th>\n",
       "      <th>Loan_Amount_Term</th>\n",
       "      <th>Credit_History</th>\n",
       "      <th>Gender_Male</th>\n",
       "      <th>Married_Yes</th>\n",
       "      <th>Dependents_1</th>\n",
       "      <th>Dependents_2</th>\n",
       "      <th>Dependents_3+</th>\n",
       "      <th>Education_Not Graduate</th>\n",
       "      <th>Self_Employed_Yes</th>\n",
       "      <th>Property_Area_Semiurban</th>\n",
       "      <th>Property_Area_Urban</th>\n",
       "    </tr>\n",
       "  </thead>\n",
       "  <tbody>\n",
       "    <tr>\n",
       "      <th>0</th>\n",
       "      <td>2400</td>\n",
       "      <td>2167.0</td>\n",
       "      <td>115.0</td>\n",
       "      <td>360.0</td>\n",
       "      <td>1.0</td>\n",
       "      <td>1</td>\n",
       "      <td>1</td>\n",
       "      <td>0</td>\n",
       "      <td>0</td>\n",
       "      <td>0</td>\n",
       "      <td>0</td>\n",
       "      <td>0</td>\n",
       "      <td>1</td>\n",
       "      <td>0</td>\n",
       "    </tr>\n",
       "    <tr>\n",
       "      <th>1</th>\n",
       "      <td>9167</td>\n",
       "      <td>0.0</td>\n",
       "      <td>185.0</td>\n",
       "      <td>360.0</td>\n",
       "      <td>1.0</td>\n",
       "      <td>1</td>\n",
       "      <td>0</td>\n",
       "      <td>0</td>\n",
       "      <td>0</td>\n",
       "      <td>1</td>\n",
       "      <td>0</td>\n",
       "      <td>0</td>\n",
       "      <td>0</td>\n",
       "      <td>0</td>\n",
       "    </tr>\n",
       "    <tr>\n",
       "      <th>2</th>\n",
       "      <td>1782</td>\n",
       "      <td>2232.0</td>\n",
       "      <td>107.0</td>\n",
       "      <td>360.0</td>\n",
       "      <td>1.0</td>\n",
       "      <td>1</td>\n",
       "      <td>1</td>\n",
       "      <td>1</td>\n",
       "      <td>0</td>\n",
       "      <td>0</td>\n",
       "      <td>0</td>\n",
       "      <td>0</td>\n",
       "      <td>0</td>\n",
       "      <td>0</td>\n",
       "    </tr>\n",
       "    <tr>\n",
       "      <th>3</th>\n",
       "      <td>6000</td>\n",
       "      <td>0.0</td>\n",
       "      <td>205.0</td>\n",
       "      <td>240.0</td>\n",
       "      <td>1.0</td>\n",
       "      <td>1</td>\n",
       "      <td>1</td>\n",
       "      <td>0</td>\n",
       "      <td>1</td>\n",
       "      <td>0</td>\n",
       "      <td>0</td>\n",
       "      <td>1</td>\n",
       "      <td>1</td>\n",
       "      <td>0</td>\n",
       "    </tr>\n",
       "    <tr>\n",
       "      <th>4</th>\n",
       "      <td>2138</td>\n",
       "      <td>0.0</td>\n",
       "      <td>99.0</td>\n",
       "      <td>360.0</td>\n",
       "      <td>0.0</td>\n",
       "      <td>0</td>\n",
       "      <td>0</td>\n",
       "      <td>0</td>\n",
       "      <td>0</td>\n",
       "      <td>0</td>\n",
       "      <td>0</td>\n",
       "      <td>0</td>\n",
       "      <td>1</td>\n",
       "      <td>0</td>\n",
       "    </tr>\n",
       "    <tr>\n",
       "      <th>...</th>\n",
       "      <td>...</td>\n",
       "      <td>...</td>\n",
       "      <td>...</td>\n",
       "      <td>...</td>\n",
       "      <td>...</td>\n",
       "      <td>...</td>\n",
       "      <td>...</td>\n",
       "      <td>...</td>\n",
       "      <td>...</td>\n",
       "      <td>...</td>\n",
       "      <td>...</td>\n",
       "      <td>...</td>\n",
       "      <td>...</td>\n",
       "      <td>...</td>\n",
       "    </tr>\n",
       "    <tr>\n",
       "      <th>486</th>\n",
       "      <td>3182</td>\n",
       "      <td>2917.0</td>\n",
       "      <td>161.0</td>\n",
       "      <td>360.0</td>\n",
       "      <td>1.0</td>\n",
       "      <td>1</td>\n",
       "      <td>0</td>\n",
       "      <td>0</td>\n",
       "      <td>0</td>\n",
       "      <td>0</td>\n",
       "      <td>0</td>\n",
       "      <td>0</td>\n",
       "      <td>0</td>\n",
       "      <td>1</td>\n",
       "    </tr>\n",
       "    <tr>\n",
       "      <th>487</th>\n",
       "      <td>4865</td>\n",
       "      <td>5624.0</td>\n",
       "      <td>208.0</td>\n",
       "      <td>360.0</td>\n",
       "      <td>1.0</td>\n",
       "      <td>1</td>\n",
       "      <td>1</td>\n",
       "      <td>0</td>\n",
       "      <td>1</td>\n",
       "      <td>0</td>\n",
       "      <td>0</td>\n",
       "      <td>0</td>\n",
       "      <td>1</td>\n",
       "      <td>0</td>\n",
       "    </tr>\n",
       "    <tr>\n",
       "      <th>488</th>\n",
       "      <td>3617</td>\n",
       "      <td>0.0</td>\n",
       "      <td>107.0</td>\n",
       "      <td>360.0</td>\n",
       "      <td>1.0</td>\n",
       "      <td>1</td>\n",
       "      <td>0</td>\n",
       "      <td>0</td>\n",
       "      <td>1</td>\n",
       "      <td>0</td>\n",
       "      <td>0</td>\n",
       "      <td>0</td>\n",
       "      <td>1</td>\n",
       "      <td>0</td>\n",
       "    </tr>\n",
       "    <tr>\n",
       "      <th>489</th>\n",
       "      <td>8333</td>\n",
       "      <td>3750.0</td>\n",
       "      <td>187.0</td>\n",
       "      <td>360.0</td>\n",
       "      <td>1.0</td>\n",
       "      <td>1</td>\n",
       "      <td>0</td>\n",
       "      <td>0</td>\n",
       "      <td>0</td>\n",
       "      <td>0</td>\n",
       "      <td>0</td>\n",
       "      <td>0</td>\n",
       "      <td>0</td>\n",
       "      <td>0</td>\n",
       "    </tr>\n",
       "    <tr>\n",
       "      <th>490</th>\n",
       "      <td>3497</td>\n",
       "      <td>1964.0</td>\n",
       "      <td>116.0</td>\n",
       "      <td>360.0</td>\n",
       "      <td>1.0</td>\n",
       "      <td>1</td>\n",
       "      <td>1</td>\n",
       "      <td>0</td>\n",
       "      <td>0</td>\n",
       "      <td>0</td>\n",
       "      <td>0</td>\n",
       "      <td>0</td>\n",
       "      <td>0</td>\n",
       "      <td>0</td>\n",
       "    </tr>\n",
       "  </tbody>\n",
       "</table>\n",
       "<p>491 rows × 14 columns</p>\n",
       "</div>"
      ],
      "text/plain": [
       "     ApplicantIncome  CoapplicantIncome  LoanAmount  Loan_Amount_Term  \\\n",
       "0               2400             2167.0       115.0             360.0   \n",
       "1               9167                0.0       185.0             360.0   \n",
       "2               1782             2232.0       107.0             360.0   \n",
       "3               6000                0.0       205.0             240.0   \n",
       "4               2138                0.0        99.0             360.0   \n",
       "..               ...                ...         ...               ...   \n",
       "486             3182             2917.0       161.0             360.0   \n",
       "487             4865             5624.0       208.0             360.0   \n",
       "488             3617                0.0       107.0             360.0   \n",
       "489             8333             3750.0       187.0             360.0   \n",
       "490             3497             1964.0       116.0             360.0   \n",
       "\n",
       "     Credit_History  Gender_Male  Married_Yes  Dependents_1  Dependents_2  \\\n",
       "0               1.0            1            1             0             0   \n",
       "1               1.0            1            0             0             0   \n",
       "2               1.0            1            1             1             0   \n",
       "3               1.0            1            1             0             1   \n",
       "4               0.0            0            0             0             0   \n",
       "..              ...          ...          ...           ...           ...   \n",
       "486             1.0            1            0             0             0   \n",
       "487             1.0            1            1             0             1   \n",
       "488             1.0            1            0             0             1   \n",
       "489             1.0            1            0             0             0   \n",
       "490             1.0            1            1             0             0   \n",
       "\n",
       "     Dependents_3+  Education_Not Graduate  Self_Employed_Yes  \\\n",
       "0                0                       0                  0   \n",
       "1                1                       0                  0   \n",
       "2                0                       0                  0   \n",
       "3                0                       0                  1   \n",
       "4                0                       0                  0   \n",
       "..             ...                     ...                ...   \n",
       "486              0                       0                  0   \n",
       "487              0                       0                  0   \n",
       "488              0                       0                  0   \n",
       "489              0                       0                  0   \n",
       "490              0                       0                  0   \n",
       "\n",
       "     Property_Area_Semiurban  Property_Area_Urban  \n",
       "0                          1                    0  \n",
       "1                          0                    0  \n",
       "2                          0                    0  \n",
       "3                          1                    0  \n",
       "4                          1                    0  \n",
       "..                       ...                  ...  \n",
       "486                        0                    1  \n",
       "487                        1                    0  \n",
       "488                        1                    0  \n",
       "489                        0                    0  \n",
       "490                        0                    0  \n",
       "\n",
       "[491 rows x 14 columns]"
      ]
     },
     "execution_count": 24,
     "metadata": {},
     "output_type": "execute_result"
    }
   ],
   "source": [
    "x"
   ]
  },
  {
   "cell_type": "markdown",
   "id": "13dbee3b",
   "metadata": {},
   "source": [
    "# Logistic Regression"
   ]
  },
  {
   "cell_type": "code",
   "execution_count": 25,
   "id": "695dd4a8",
   "metadata": {},
   "outputs": [],
   "source": [
    "# Create an instance of the Laptop class\n",
    "logit = Loan(x,y,LogisticRegression())  # Replace x and y with your actual data and model"
   ]
  },
  {
   "cell_type": "code",
   "execution_count": 26,
   "id": "b9fa1ab6",
   "metadata": {},
   "outputs": [],
   "source": [
    "# Call the split method\n",
    "logit.split() "
   ]
  },
  {
   "cell_type": "code",
   "execution_count": 27,
   "id": "f8abe527",
   "metadata": {
    "scrolled": false
   },
   "outputs": [
    {
     "name": "stdout",
     "output_type": "stream",
     "text": [
      "Training Score: 0.7806122448979592\n",
      "Testing Score: 0.898989898989899\n"
     ]
    }
   ],
   "source": [
    "# Call the mscore method\n",
    "logit.mscore()  \n"
   ]
  },
  {
   "cell_type": "code",
   "execution_count": 28,
   "id": "a57626ca",
   "metadata": {
    "scrolled": true
   },
   "outputs": [
    {
     "data": {
      "image/png": "[encoded data removed]",
      "text/plain": [
       "<Figure size 640x480 with 2 Axes>"
      ]
     },
     "metadata": {},
     "output_type": "display_data"
    }
   ],
   "source": [
    "# Call the met method\n",
    "logit.met() "
   ]
  },
  {
   "cell_type": "markdown",
   "id": "3a8c8699",
   "metadata": {},
   "source": [
    "# Scaling Price column Using Robust Scaler"
   ]
  },
  {
   "cell_type": "code",
   "execution_count": 29,
   "id": "cf0e9aed",
   "metadata": {
    "scrolled": true
   },
   "outputs": [],
   "source": [
    "from sklearn.preprocessing import RobustScaler\n",
    "colm=x.columns"
   ]
  },
  {
   "cell_type": "code",
   "execution_count": 30,
   "id": "d781518c",
   "metadata": {},
   "outputs": [],
   "source": [
    "scaler = RobustScaler()\n",
    "\n",
    "# Fit and transform the DataFrame 'x' using the scaler\n",
    "scaled_values = scaler.fit_transform(x)\n",
    "\n",
    "# Create a new DataFrame with the scaled values and original column names\n",
    "x_scaled = pd.DataFrame(scaled_values, columns=colm)"
   ]
  },
  {
   "cell_type": "code",
   "execution_count": 31,
   "id": "e6c89396",
   "metadata": {},
   "outputs": [
    {
     "data": {
      "text/html": [
       "<div>\n",
       "<style scoped>\n",
       "    .dataframe tbody tr th:only-of-type {\n",
       "        vertical-align: middle;\n",
       "    }\n",
       "\n",
       "    .dataframe tbody tr th {\n",
       "        vertical-align: top;\n",
       "    }\n",
       "\n",
       "    .dataframe thead th {\n",
       "        text-align: right;\n",
       "    }\n",
       "</style>\n",
       "<table border=\"1\" class=\"dataframe\">\n",
       "  <thead>\n",
       "    <tr style=\"text-align: right;\">\n",
       "      <th></th>\n",
       "      <th>ApplicantIncome</th>\n",
       "      <th>CoapplicantIncome</th>\n",
       "      <th>LoanAmount</th>\n",
       "      <th>Loan_Amount_Term</th>\n",
       "      <th>Credit_History</th>\n",
       "      <th>Gender_Male</th>\n",
       "      <th>Married_Yes</th>\n",
       "      <th>Dependents_1</th>\n",
       "      <th>Dependents_2</th>\n",
       "      <th>Dependents_3+</th>\n",
       "      <th>Education_Not Graduate</th>\n",
       "      <th>Self_Employed_Yes</th>\n",
       "      <th>Property_Area_Semiurban</th>\n",
       "      <th>Property_Area_Urban</th>\n",
       "    </tr>\n",
       "  </thead>\n",
       "  <tbody>\n",
       "    <tr>\n",
       "      <th>0</th>\n",
       "      <td>-0.465185</td>\n",
       "      <td>0.423341</td>\n",
       "      <td>-0.204724</td>\n",
       "      <td>0.0</td>\n",
       "      <td>0.0</td>\n",
       "      <td>0.0</td>\n",
       "      <td>0.0</td>\n",
       "      <td>0.0</td>\n",
       "      <td>0.0</td>\n",
       "      <td>0.0</td>\n",
       "      <td>0.0</td>\n",
       "      <td>0.0</td>\n",
       "      <td>1.0</td>\n",
       "      <td>0.0</td>\n",
       "    </tr>\n",
       "    <tr>\n",
       "      <th>1</th>\n",
       "      <td>1.762634</td>\n",
       "      <td>-0.538274</td>\n",
       "      <td>0.897638</td>\n",
       "      <td>0.0</td>\n",
       "      <td>0.0</td>\n",
       "      <td>0.0</td>\n",
       "      <td>-1.0</td>\n",
       "      <td>0.0</td>\n",
       "      <td>0.0</td>\n",
       "      <td>1.0</td>\n",
       "      <td>0.0</td>\n",
       "      <td>0.0</td>\n",
       "      <td>0.0</td>\n",
       "      <td>0.0</td>\n",
       "    </tr>\n",
       "    <tr>\n",
       "      <th>2</th>\n",
       "      <td>-0.668642</td>\n",
       "      <td>0.452185</td>\n",
       "      <td>-0.330709</td>\n",
       "      <td>0.0</td>\n",
       "      <td>0.0</td>\n",
       "      <td>0.0</td>\n",
       "      <td>0.0</td>\n",
       "      <td>1.0</td>\n",
       "      <td>0.0</td>\n",
       "      <td>0.0</td>\n",
       "      <td>0.0</td>\n",
       "      <td>0.0</td>\n",
       "      <td>0.0</td>\n",
       "      <td>0.0</td>\n",
       "    </tr>\n",
       "    <tr>\n",
       "      <th>3</th>\n",
       "      <td>0.720000</td>\n",
       "      <td>-0.538274</td>\n",
       "      <td>1.212598</td>\n",
       "      <td>-120.0</td>\n",
       "      <td>0.0</td>\n",
       "      <td>0.0</td>\n",
       "      <td>0.0</td>\n",
       "      <td>0.0</td>\n",
       "      <td>1.0</td>\n",
       "      <td>0.0</td>\n",
       "      <td>0.0</td>\n",
       "      <td>1.0</td>\n",
       "      <td>1.0</td>\n",
       "      <td>0.0</td>\n",
       "    </tr>\n",
       "    <tr>\n",
       "      <th>4</th>\n",
       "      <td>-0.551440</td>\n",
       "      <td>-0.538274</td>\n",
       "      <td>-0.456693</td>\n",
       "      <td>0.0</td>\n",
       "      <td>-1.0</td>\n",
       "      <td>-1.0</td>\n",
       "      <td>-1.0</td>\n",
       "      <td>0.0</td>\n",
       "      <td>0.0</td>\n",
       "      <td>0.0</td>\n",
       "      <td>0.0</td>\n",
       "      <td>0.0</td>\n",
       "      <td>1.0</td>\n",
       "      <td>0.0</td>\n",
       "    </tr>\n",
       "    <tr>\n",
       "      <th>...</th>\n",
       "      <td>...</td>\n",
       "      <td>...</td>\n",
       "      <td>...</td>\n",
       "      <td>...</td>\n",
       "      <td>...</td>\n",
       "      <td>...</td>\n",
       "      <td>...</td>\n",
       "      <td>...</td>\n",
       "      <td>...</td>\n",
       "      <td>...</td>\n",
       "      <td>...</td>\n",
       "      <td>...</td>\n",
       "      <td>...</td>\n",
       "      <td>...</td>\n",
       "    </tr>\n",
       "    <tr>\n",
       "      <th>486</th>\n",
       "      <td>-0.207737</td>\n",
       "      <td>0.756157</td>\n",
       "      <td>0.519685</td>\n",
       "      <td>0.0</td>\n",
       "      <td>0.0</td>\n",
       "      <td>0.0</td>\n",
       "      <td>-1.0</td>\n",
       "      <td>0.0</td>\n",
       "      <td>0.0</td>\n",
       "      <td>0.0</td>\n",
       "      <td>0.0</td>\n",
       "      <td>0.0</td>\n",
       "      <td>0.0</td>\n",
       "      <td>1.0</td>\n",
       "    </tr>\n",
       "    <tr>\n",
       "      <th>487</th>\n",
       "      <td>0.346337</td>\n",
       "      <td>1.957400</td>\n",
       "      <td>1.259843</td>\n",
       "      <td>0.0</td>\n",
       "      <td>0.0</td>\n",
       "      <td>0.0</td>\n",
       "      <td>0.0</td>\n",
       "      <td>0.0</td>\n",
       "      <td>1.0</td>\n",
       "      <td>0.0</td>\n",
       "      <td>0.0</td>\n",
       "      <td>0.0</td>\n",
       "      <td>1.0</td>\n",
       "      <td>0.0</td>\n",
       "    </tr>\n",
       "    <tr>\n",
       "      <th>488</th>\n",
       "      <td>-0.064527</td>\n",
       "      <td>-0.538274</td>\n",
       "      <td>-0.330709</td>\n",
       "      <td>0.0</td>\n",
       "      <td>0.0</td>\n",
       "      <td>0.0</td>\n",
       "      <td>-1.0</td>\n",
       "      <td>0.0</td>\n",
       "      <td>1.0</td>\n",
       "      <td>0.0</td>\n",
       "      <td>0.0</td>\n",
       "      <td>0.0</td>\n",
       "      <td>1.0</td>\n",
       "      <td>0.0</td>\n",
       "    </tr>\n",
       "    <tr>\n",
       "      <th>489</th>\n",
       "      <td>1.488066</td>\n",
       "      <td>1.125804</td>\n",
       "      <td>0.929134</td>\n",
       "      <td>0.0</td>\n",
       "      <td>0.0</td>\n",
       "      <td>0.0</td>\n",
       "      <td>-1.0</td>\n",
       "      <td>0.0</td>\n",
       "      <td>0.0</td>\n",
       "      <td>0.0</td>\n",
       "      <td>0.0</td>\n",
       "      <td>0.0</td>\n",
       "      <td>0.0</td>\n",
       "      <td>0.0</td>\n",
       "    </tr>\n",
       "    <tr>\n",
       "      <th>490</th>\n",
       "      <td>-0.104033</td>\n",
       "      <td>0.333259</td>\n",
       "      <td>-0.188976</td>\n",
       "      <td>0.0</td>\n",
       "      <td>0.0</td>\n",
       "      <td>0.0</td>\n",
       "      <td>0.0</td>\n",
       "      <td>0.0</td>\n",
       "      <td>0.0</td>\n",
       "      <td>0.0</td>\n",
       "      <td>0.0</td>\n",
       "      <td>0.0</td>\n",
       "      <td>0.0</td>\n",
       "      <td>0.0</td>\n",
       "    </tr>\n",
       "  </tbody>\n",
       "</table>\n",
       "<p>491 rows × 14 columns</p>\n",
       "</div>"
      ],
      "text/plain": [
       "     ApplicantIncome  CoapplicantIncome  LoanAmount  Loan_Amount_Term  \\\n",
       "0          -0.465185           0.423341   -0.204724               0.0   \n",
       "1           1.762634          -0.538274    0.897638               0.0   \n",
       "2          -0.668642           0.452185   -0.330709               0.0   \n",
       "3           0.720000          -0.538274    1.212598            -120.0   \n",
       "4          -0.551440          -0.538274   -0.456693               0.0   \n",
       "..               ...                ...         ...               ...   \n",
       "486        -0.207737           0.756157    0.519685               0.0   \n",
       "487         0.346337           1.957400    1.259843               0.0   \n",
       "488        -0.064527          -0.538274   -0.330709               0.0   \n",
       "489         1.488066           1.125804    0.929134               0.0   \n",
       "490        -0.104033           0.333259   -0.188976               0.0   \n",
       "\n",
       "     Credit_History  Gender_Male  Married_Yes  Dependents_1  Dependents_2  \\\n",
       "0               0.0          0.0          0.0           0.0           0.0   \n",
       "1               0.0          0.0         -1.0           0.0           0.0   \n",
       "2               0.0          0.0          0.0           1.0           0.0   \n",
       "3               0.0          0.0          0.0           0.0           1.0   \n",
       "4              -1.0         -1.0         -1.0           0.0           0.0   \n",
       "..              ...          ...          ...           ...           ...   \n",
       "486             0.0          0.0         -1.0           0.0           0.0   \n",
       "487             0.0          0.0          0.0           0.0           1.0   \n",
       "488             0.0          0.0         -1.0           0.0           1.0   \n",
       "489             0.0          0.0         -1.0           0.0           0.0   \n",
       "490             0.0          0.0          0.0           0.0           0.0   \n",
       "\n",
       "     Dependents_3+  Education_Not Graduate  Self_Employed_Yes  \\\n",
       "0              0.0                     0.0                0.0   \n",
       "1              1.0                     0.0                0.0   \n",
       "2              0.0                     0.0                0.0   \n",
       "3              0.0                     0.0                1.0   \n",
       "4              0.0                     0.0                0.0   \n",
       "..             ...                     ...                ...   \n",
       "486            0.0                     0.0                0.0   \n",
       "487            0.0                     0.0                0.0   \n",
       "488            0.0                     0.0                0.0   \n",
       "489            0.0                     0.0                0.0   \n",
       "490            0.0                     0.0                0.0   \n",
       "\n",
       "     Property_Area_Semiurban  Property_Area_Urban  \n",
       "0                        1.0                  0.0  \n",
       "1                        0.0                  0.0  \n",
       "2                        0.0                  0.0  \n",
       "3                        1.0                  0.0  \n",
       "4                        1.0                  0.0  \n",
       "..                       ...                  ...  \n",
       "486                      0.0                  1.0  \n",
       "487                      1.0                  0.0  \n",
       "488                      1.0                  0.0  \n",
       "489                      0.0                  0.0  \n",
       "490                      0.0                  0.0  \n",
       "\n",
       "[491 rows x 14 columns]"
      ]
     },
     "execution_count": 31,
     "metadata": {},
     "output_type": "execute_result"
    }
   ],
   "source": [
    "x_scaled"
   ]
  },
  {
   "cell_type": "markdown",
   "id": "6a9e08bd",
   "metadata": {},
   "source": [
    "# Logistic Regression "
   ]
  },
  {
   "cell_type": "code",
   "execution_count": 32,
   "id": "d0b95653",
   "metadata": {},
   "outputs": [
    {
     "name": "stdout",
     "output_type": "stream",
     "text": [
      "Training Score: 0.7857142857142857\n",
      "Testing Score: 0.898989898989899\n"
     ]
    },
    {
     "data": {
      "image/png": "[encoded data removed]",
      "text/plain": [
       "<Figure size 640x480 with 2 Axes>"
      ]
     },
     "metadata": {},
     "output_type": "display_data"
    }
   ],
   "source": [
    "# Create an instance of the Laptop class\n",
    "logit_rs= Loan(x_scaled,y,LogisticRegression())  \n",
    "\n",
    "# Call the split method\n",
    "logit_rs.split()  \n",
    "\n",
    "# Call the mscore method\n",
    "logit_rs.mscore()\n",
    "\n",
    "# Call the met method\n",
    "logit_rs.met() \n"
   ]
  },
  {
   "cell_type": "markdown",
   "id": "8cdb0b31",
   "metadata": {},
   "source": [
    "As the report indicate a lower error rate but accuracy score is lower in testing data set as compare to training data set which indicate *OVERFITTING*"
   ]
  },
  {
   "cell_type": "markdown",
   "id": "ccc73fd8",
   "metadata": {},
   "source": [
    "# Lasso Regression"
   ]
  },
  {
   "cell_type": "code",
   "execution_count": 33,
   "id": "06f1bf15",
   "metadata": {
    "scrolled": true
   },
   "outputs": [
    {
     "name": "stdout",
     "output_type": "stream",
     "text": [
      "Training Score: 0.7831632653061225\n",
      "Testing Score: 0.898989898989899\n"
     ]
    },
    {
     "data": {
      "image/png": "[encoded data removed]",
      "text/plain": [
       "<Figure size 640x480 with 2 Axes>"
      ]
     },
     "metadata": {},
     "output_type": "display_data"
    }
   ],
   "source": [
    "\n",
    "logit_rs_lasso= Loan(x_scaled,y,LogisticRegression(penalty='l1', solver='liblinear'))  \n",
    "\n",
    "# Call the split method\n",
    "logit_rs_lasso.split()  \n",
    "\n",
    "# Call the mscore method\n",
    "logit_rs_lasso.mscore()\n",
    "\n",
    "# Call the met method\n",
    "logit_rs_lasso.met() \n"
   ]
  },
  {
   "cell_type": "markdown",
   "id": "214df2b3",
   "metadata": {},
   "source": [
    "# ridge Regression"
   ]
  },
  {
   "cell_type": "code",
   "execution_count": 34,
   "id": "e4937c38",
   "metadata": {
    "scrolled": true
   },
   "outputs": [
    {
     "name": "stdout",
     "output_type": "stream",
     "text": [
      "Training Score: 0.7857142857142857\n",
      "Testing Score: 0.898989898989899\n"
     ]
    },
    {
     "data": {
      "image/png": "[encoded data removed]",
      "text/plain": [
       "<Figure size 640x480 with 2 Axes>"
      ]
     },
     "metadata": {},
     "output_type": "display_data"
    }
   ],
   "source": [
    "logit_rs_ridge= Loan(x_scaled,y,LogisticRegression(penalty='l2'))  \n",
    "\n",
    "# Call the split method\n",
    "logit_rs_ridge.split()  \n",
    "\n",
    "# Call the mscore method\n",
    "logit_rs_ridge.mscore()\n",
    "\n",
    "# Call the met method\n",
    "logit_rs_ridge.met() \n"
   ]
  },
  {
   "cell_type": "markdown",
   "id": "2e990af8",
   "metadata": {},
   "source": [
    "# Decision tree"
   ]
  },
  {
   "cell_type": "code",
   "execution_count": 35,
   "id": "78c92abc",
   "metadata": {},
   "outputs": [],
   "source": [
    "from sklearn.tree import DecisionTreeClassifier"
   ]
  },
  {
   "cell_type": "code",
   "execution_count": 36,
   "id": "da48f02a",
   "metadata": {},
   "outputs": [],
   "source": [
    "dt=Loan(x,y,DecisionTreeClassifier())"
   ]
  },
  {
   "cell_type": "code",
   "execution_count": 37,
   "id": "c2b91108",
   "metadata": {},
   "outputs": [
    {
     "name": "stdout",
     "output_type": "stream",
     "text": [
      "Training Score: 1.0\n",
      "Testing Score: 0.7070707070707071\n"
     ]
    },
    {
     "data": {
      "image/png": "[encoded data removed]",
      "text/plain": [
       "<Figure size 640x480 with 2 Axes>"
      ]
     },
     "metadata": {},
     "output_type": "display_data"
    }
   ],
   "source": [
    "# Call the split method\n",
    "dt.split() \n",
    "\n",
    "# Call the mscore method\n",
    "dt.mscore()  \n",
    "\n",
    "# Call the met method\n",
    "dt.met()  "
   ]
  },
  {
   "cell_type": "markdown",
   "id": "6ecf49ba",
   "metadata": {},
   "source": [
    "# Random forest"
   ]
  },
  {
   "cell_type": "code",
   "execution_count": 38,
   "id": "54e7b505",
   "metadata": {},
   "outputs": [],
   "source": [
    "from sklearn.ensemble import RandomForestClassifier"
   ]
  },
  {
   "cell_type": "code",
   "execution_count": 39,
   "id": "ce6ec3a2",
   "metadata": {},
   "outputs": [],
   "source": [
    "rf=Loan(x,y,RandomForestClassifier())"
   ]
  },
  {
   "cell_type": "code",
   "execution_count": 40,
   "id": "7f229921",
   "metadata": {},
   "outputs": [
    {
     "name": "stdout",
     "output_type": "stream",
     "text": [
      "Training Score: 1.0\n",
      "Testing Score: 0.8181818181818182\n"
     ]
    },
    {
     "data": {
      "image/png": "[encoded data removed]",
      "text/plain": [
       "<Figure size 640x480 with 2 Axes>"
      ]
     },
     "metadata": {},
     "output_type": "display_data"
    }
   ],
   "source": [
    "# Call the split method\n",
    "rf.split() \n",
    "\n",
    "# Call the mscore method\n",
    "rf.mscore()  \n",
    "\n",
    "# Call the met method\n",
    "rf.met()  "
   ]
  },
  {
   "cell_type": "markdown",
   "id": "5b6c6f74",
   "metadata": {},
   "source": [
    "# Boosting"
   ]
  },
  {
   "cell_type": "markdown",
   "id": "91289234",
   "metadata": {},
   "source": [
    "### AdaBoost"
   ]
  },
  {
   "cell_type": "code",
   "execution_count": 41,
   "id": "96d309bc",
   "metadata": {},
   "outputs": [],
   "source": [
    "from sklearn.ensemble import AdaBoostClassifier"
   ]
  },
  {
   "cell_type": "code",
   "execution_count": 42,
   "id": "2620bf8c",
   "metadata": {},
   "outputs": [],
   "source": [
    "ab=Loan(x,y,AdaBoostClassifier())"
   ]
  },
  {
   "cell_type": "code",
   "execution_count": 43,
   "id": "51ca6574",
   "metadata": {},
   "outputs": [
    {
     "name": "stdout",
     "output_type": "stream",
     "text": [
      "Training Score: 0.8316326530612245\n",
      "Testing Score: 0.8080808080808081\n"
     ]
    },
    {
     "data": {
      "image/png": "[encoded data removed]",
      "text/plain": [
       "<Figure size 640x480 with 2 Axes>"
      ]
     },
     "metadata": {},
     "output_type": "display_data"
    }
   ],
   "source": [
    "# Call the split method\n",
    "ab.split() \n",
    "\n",
    "# Call the mscore method\n",
    "ab.mscore()  \n",
    "\n",
    "# Call the met method\n",
    "ab.met()  "
   ]
  },
  {
   "cell_type": "markdown",
   "id": "3c875ba8",
   "metadata": {},
   "source": [
    "### Gradient Boosting"
   ]
  },
  {
   "cell_type": "code",
   "execution_count": 44,
   "id": "da93a75f",
   "metadata": {},
   "outputs": [],
   "source": [
    "from sklearn.ensemble import GradientBoostingClassifier"
   ]
  },
  {
   "cell_type": "code",
   "execution_count": 45,
   "id": "fe34bbcd",
   "metadata": {},
   "outputs": [],
   "source": [
    "gb=Loan(x,y,GradientBoostingClassifier())"
   ]
  },
  {
   "cell_type": "code",
   "execution_count": 46,
   "id": "e797fa90",
   "metadata": {},
   "outputs": [
    {
     "name": "stdout",
     "output_type": "stream",
     "text": [
      "Training Score: 0.8979591836734694\n",
      "Testing Score: 0.797979797979798\n"
     ]
    },
    {
     "data": {
      "image/png": "[encoded data removed]",
      "text/plain": [
       "<Figure size 640x480 with 2 Axes>"
      ]
     },
     "metadata": {},
     "output_type": "display_data"
    }
   ],
   "source": [
    "# Call the split method\n",
    "gb.split() \n",
    "\n",
    "# Call the mscore method\n",
    "gb.mscore()  \n",
    "\n",
    "# Call the met method\n",
    "gb.met()  "
   ]
  },
  {
   "cell_type": "markdown",
   "id": "dc4a7407",
   "metadata": {},
   "source": [
    "### XG Boosting"
   ]
  },
  {
   "cell_type": "code",
   "execution_count": 47,
   "id": "b58f268d",
   "metadata": {},
   "outputs": [],
   "source": [
    "from xgboost import XGBClassifier"
   ]
  },
  {
   "cell_type": "code",
   "execution_count": 48,
   "id": "efdbad42",
   "metadata": {},
   "outputs": [],
   "source": [
    "xgb=Loan(x,y,XGBClassifier())"
   ]
  },
  {
   "cell_type": "code",
   "execution_count": 49,
   "id": "2630f806",
   "metadata": {},
   "outputs": [
    {
     "name": "stdout",
     "output_type": "stream",
     "text": [
      "Training Score: 1.0\n",
      "Testing Score: 0.7676767676767676\n"
     ]
    },
    {
     "data": {
      "image/png": "[encoded data removed]",
      "text/plain": [
       "<Figure size 640x480 with 2 Axes>"
      ]
     },
     "metadata": {},
     "output_type": "display_data"
    }
   ],
   "source": [
    "# Call the split method\n",
    "xgb.split() \n",
    "\n",
    "# Call the mscore method\n",
    "xgb.mscore()  \n",
    "\n",
    "# Call the met method\n",
    "xgb.met()  "
   ]
  },
  {
   "cell_type": "code",
   "execution_count": null,
   "id": "10e7948b",
   "metadata": {},
   "outputs": [],
   "source": []
  },
  {
   "cell_type": "code",
   "execution_count": null,
   "id": "e93db3ef",
   "metadata": {},
   "outputs": [],
   "source": []
  },
  {
   "cell_type": "code",
   "execution_count": null,
   "id": "d81ef6c0",
   "metadata": {},
   "outputs": [],
   "source": []
  },
  {
   "cell_type": "code",
   "execution_count": null,
   "id": "f7a36c04",
   "metadata": {},
   "outputs": [],
   "source": []
  },
  {
   "cell_type": "code",
   "execution_count": null,
   "id": "450aa614",
   "metadata": {},
   "outputs": [],
   "source": []
  },
  {
   "cell_type": "code",
   "execution_count": null,
   "id": "ddd884fd",
   "metadata": {},
   "outputs": [],
   "source": []
  }
 ],
 "metadata": {
  "kernelspec": {
   "display_name": "Python 3 (ipykernel)",
   "language": "python",
   "name": "python3"
  },
  "language_info": {
   "codemirror_mode": {
    "name": "ipython",
    "version": 3
   },
   "file_extension": ".py",
   "mimetype": "text/x-python",
   "name": "python",
   "nbconvert_exporter": "python",
   "pygments_lexer": "ipython3",
   "version": "3.10.9"
  }
 },
 "nbformat": 4,
 "nbformat_minor": 5
}
